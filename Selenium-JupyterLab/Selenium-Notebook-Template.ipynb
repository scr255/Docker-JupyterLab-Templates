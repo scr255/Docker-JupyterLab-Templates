{
 "cells": [
  {
   "cell_type": "code",
   "execution_count": null,
   "id": "fc2142d3-b37a-46da-800d-1b047592d849",
   "metadata": {},
   "outputs": [],
   "source": [
    "import platform\n",
    "\n",
    "from selenium import webdriver"
   ]
  },
  {
   "cell_type": "markdown",
   "id": "3f0d3232-eb46-4436-bf54-429e997b2760",
   "metadata": {},
   "source": [
    "# Check system"
   ]
  },
  {
   "cell_type": "code",
   "execution_count": null,
   "id": "ea9d63da-8614-482b-bd31-06a2d9f1faa9",
   "metadata": {},
   "outputs": [],
   "source": [
    "print(\"python version:\", platform.python_version())\n",
    "print(\"selenium version:\", webdriver.__version__)"
   ]
  },
  {
   "cell_type": "markdown",
   "id": "dfa9d905-7ab3-4f41-834c-32fa9e72edf5",
   "metadata": {},
   "source": [
    "# Init WebDriver"
   ]
  },
  {
   "cell_type": "code",
   "execution_count": null,
   "id": "e0dae018-0f31-4d01-9e2b-8b8abcdd1a67",
   "metadata": {},
   "outputs": [],
   "source": [
    "chrome_options = webdriver.ChromeOptions()\n",
    "chrome_options.binary_location = \"/usr/bin/google-chrome\"\n",
    "chrome_options.add_argument(\"--headless\")\n",
    "chrome_options.add_argument(\"--no-sandbox\")\n",
    "chrome_options.add_argument(\"--disable-dev-shm-usage\")\n",
    "chrome_options.add_argument(\"--disable-gpu\")\n",
    "chrome_options.add_argument(\"window-size=1920,1080\")\n",
    "chrome_options.add_argument(\n",
    "    \"user-agent=Mozilla/5.0 (Macintosh; Intel Mac OS X 10_15_7) AppleWebKit/537.36 (KHTML, like Gecko) Chrome/90.0.4430.212 Safari/537.36\"\n",
    ")\n",
    "\n",
    "try:\n",
    "    wd.close()\n",
    "except:\n",
    "    pass\n",
    "wd = webdriver.Chrome(\"chromedriver\", options=chrome_options)"
   ]
  },
  {
   "cell_type": "markdown",
   "id": "6661f7ba-bedb-4191-8648-e70ffcf0303d",
   "metadata": {},
   "source": [
    "# Get sample url"
   ]
  },
  {
   "cell_type": "code",
   "execution_count": null,
   "id": "827cdb90-4d82-48a9-b3b8-2d62a2038cf4",
   "metadata": {},
   "outputs": [],
   "source": [
    "wd.get(\"https://www.selenium.dev/\")\n",
    "\n",
    "print(wd.title)"
   ]
  },
  {
   "cell_type": "markdown",
   "id": "fd8b9ba8-ffa7-4653-8f45-cd65892b5430",
   "metadata": {},
   "source": [
    "# Close WebDriver"
   ]
  },
  {
   "cell_type": "code",
   "execution_count": null,
   "id": "c9162ea3-af0a-4617-984e-cc73c3434ba6",
   "metadata": {},
   "outputs": [],
   "source": [
    "wd.close()"
   ]
  }
 ],
 "metadata": {
  "kernelspec": {
   "display_name": "Python 3 (ipykernel)",
   "language": "python",
   "name": "python3"
  },
  "language_info": {
   "codemirror_mode": {
    "name": "ipython",
    "version": 3
   },
   "file_extension": ".py",
   "mimetype": "text/x-python",
   "name": "python",
   "nbconvert_exporter": "python",
   "pygments_lexer": "ipython3",
   "version": "3.10.8"
  }
 },
 "nbformat": 4,
 "nbformat_minor": 5
}
