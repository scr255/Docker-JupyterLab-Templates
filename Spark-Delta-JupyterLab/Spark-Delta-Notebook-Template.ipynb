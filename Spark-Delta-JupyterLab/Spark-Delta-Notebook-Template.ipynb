{
 "cells": [
  {
   "cell_type": "code",
   "execution_count": null,
   "id": "3fb0969b-5576-4aae-95f9-322a16a701c0",
   "metadata": {},
   "outputs": [],
   "source": [
    "import platform\n",
    "\n",
    "from delta import *\n",
    "from pyspark.sql import SparkSession"
   ]
  },
  {
   "cell_type": "markdown",
   "id": "f9dbf5b0-3d35-4956-a44e-01ce8d9b5d0a",
   "metadata": {},
   "source": [
    "# Start Spark Session"
   ]
  },
  {
   "cell_type": "code",
   "execution_count": null,
   "id": "19001f9d-0f56-422a-8f4a-2571a0ee4071",
   "metadata": {},
   "outputs": [],
   "source": [
    "builder = (\n",
    "    SparkSession.builder.appName(\"test\")\n",
    "    .config(\"spark.driver.memory\", \"1g\")\n",
    "    .config(\"spark.executor.instances\", \"2\")\n",
    "    .config(\"spark.executor.cores\", \"1\")\n",
    "    .config(\"spark.executor.memory\", \"1g\")\n",
    "    .config(\"spark.sql.shuffle.partitions\", \"2\")\n",
    "    .config(\"spark.shuffle.file.buffer\", \"1024k\")\n",
    "    .config(\"spark.io.compression.lz4.blockSize\", \"512k\")\n",
    "    .config(\"spark.shuffle.registration.timeout\", \"12000\")\n",
    "    .config(\"spark.sql.extensions\", \"io.delta.sql.DeltaSparkSessionExtension\")\n",
    "    .config(\n",
    "        \"spark.sql.catalog.spark_catalog\",\n",
    "        \"org.apache.spark.sql.delta.catalog.DeltaCatalog\",\n",
    "    )\n",
    ")\n",
    "spark = configure_spark_with_delta_pip(builder).master(\"local[*]\").getOrCreate()"
   ]
  },
  {
   "cell_type": "markdown",
   "id": "d1572cb3-1d75-486b-a2ba-e4dd1008b1ea",
   "metadata": {},
   "source": [
    "# Check system"
   ]
  },
  {
   "cell_type": "code",
   "execution_count": null,
   "id": "8cf6423a-f05b-4e1d-88b6-282f367d30c3",
   "metadata": {},
   "outputs": [],
   "source": [
    "print(\"python version:\", platform.python_version())\n",
    "print(\"pyspark version:\", spark.version)"
   ]
  },
  {
   "cell_type": "markdown",
   "id": "371a98ee-d844-46cc-907c-6b9c388f02ab",
   "metadata": {},
   "source": [
    "### Open http://localhost:4040 for SparkUI (active task to show up)"
   ]
  }
 ],
 "metadata": {
  "kernelspec": {
   "display_name": "Python 3 (ipykernel)",
   "language": "python",
   "name": "python3"
  },
  "language_info": {
   "codemirror_mode": {
    "name": "ipython",
    "version": 3
   },
   "file_extension": ".py",
   "mimetype": "text/x-python",
   "name": "python",
   "nbconvert_exporter": "python",
   "pygments_lexer": "ipython3",
   "version": "3.10.8"
  }
 },
 "nbformat": 4,
 "nbformat_minor": 5
}
