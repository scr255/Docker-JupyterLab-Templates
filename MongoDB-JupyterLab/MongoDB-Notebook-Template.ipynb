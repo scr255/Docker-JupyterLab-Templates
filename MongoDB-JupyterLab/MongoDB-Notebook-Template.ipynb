{
 "cells": [
  {
   "cell_type": "code",
   "execution_count": null,
   "id": "fc2142d3-b37a-46da-800d-1b047592d849",
   "metadata": {},
   "outputs": [],
   "source": [
    "import platform\n",
    "\n",
    "import pymongo"
   ]
  },
  {
   "cell_type": "markdown",
   "id": "3f0d3232-eb46-4436-bf54-429e997b2760",
   "metadata": {},
   "source": [
    "# Check system"
   ]
  },
  {
   "cell_type": "code",
   "execution_count": null,
   "id": "ea9d63da-8614-482b-bd31-06a2d9f1faa9",
   "metadata": {},
   "outputs": [],
   "source": [
    "print(\"python version:\", platform.python_version())\n",
    "print(\"pymongo version:\", pymongo.get_version_string())"
   ]
  },
  {
   "cell_type": "markdown",
   "id": "c49f62d1-39e7-4339-969f-ccb3c76b7264",
   "metadata": {},
   "source": [
    "# Parameters"
   ]
  },
  {
   "cell_type": "code",
   "execution_count": null,
   "id": "47583306-6234-4f11-8ec2-ede3fd07a53c",
   "metadata": {},
   "outputs": [],
   "source": [
    "NAME_DATABASE = \"test_database\"\n",
    "NAME_COLLECTION = \"test_collection\""
   ]
  },
  {
   "cell_type": "markdown",
   "id": "dfa9d905-7ab3-4f41-834c-32fa9e72edf5",
   "metadata": {},
   "source": [
    "# Init MongoDB"
   ]
  },
  {
   "cell_type": "code",
   "execution_count": null,
   "id": "25470c23-ce0a-49c1-93fb-c6d311e39d1a",
   "metadata": {},
   "outputs": [],
   "source": [
    "try:\n",
    "    client = pymongo.MongoClient(\n",
    "        host=\"mongodb\", port=27017, username=\"mongodb\", password=\"pass\"\n",
    "    )\n",
    "    db = client[NAME_DATABASE]\n",
    "    if NAME_COLLECTION not in db.list_collection_names():\n",
    "        db.create_collection(NAME_COLLECTION)\n",
    "    print(\"SUCCESS: Connected to MongoDB database\")\n",
    "except Exception as e:\n",
    "    print(\"ERROR: Could not connect to the MongoDB. See console for details.\")\n",
    "    raise SystemExit(e)"
   ]
  },
  {
   "cell_type": "markdown",
   "id": "0710c61f-9b4f-4174-91e2-23a3b0564a08",
   "metadata": {},
   "source": [
    "# Run sample query"
   ]
  },
  {
   "cell_type": "code",
   "execution_count": null,
   "id": "827cdb90-4d82-48a9-b3b8-2d62a2038cf4",
   "metadata": {},
   "outputs": [],
   "source": [
    "print(\n",
    "    db[NAME_COLLECTION].count_documents(filter={}),\n",
    "    \"documents in collection {}\".format(NAME_COLLECTION),\n",
    ")"
   ]
  },
  {
   "cell_type": "markdown",
   "id": "d828e9a4-93f0-4225-a810-1f7bb1d43b13",
   "metadata": {},
   "source": [
    "### Open http://localhost:8081 for Mongo Express"
   ]
  }
 ],
 "metadata": {
  "kernelspec": {
   "display_name": "Python 3 (ipykernel)",
   "language": "python",
   "name": "python3"
  },
  "language_info": {
   "codemirror_mode": {
    "name": "ipython",
    "version": 3
   },
   "file_extension": ".py",
   "mimetype": "text/x-python",
   "name": "python",
   "nbconvert_exporter": "python",
   "pygments_lexer": "ipython3",
   "version": "3.10.8"
  }
 },
 "nbformat": 4,
 "nbformat_minor": 5
}
