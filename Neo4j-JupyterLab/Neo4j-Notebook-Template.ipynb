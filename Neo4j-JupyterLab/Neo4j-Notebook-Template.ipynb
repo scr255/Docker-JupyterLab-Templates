{
 "cells": [
  {
   "cell_type": "code",
   "execution_count": null,
   "id": "fc2142d3-b37a-46da-800d-1b047592d849",
   "metadata": {},
   "outputs": [],
   "source": [
    "import platform\n",
    "\n",
    "import py2neo\n",
    "from py2neo import Graph"
   ]
  },
  {
   "cell_type": "markdown",
   "id": "3f0d3232-eb46-4436-bf54-429e997b2760",
   "metadata": {},
   "source": [
    "# Check system"
   ]
  },
  {
   "cell_type": "code",
   "execution_count": null,
   "id": "ea9d63da-8614-482b-bd31-06a2d9f1faa9",
   "metadata": {},
   "outputs": [],
   "source": [
    "print(\"python version:\", platform.python_version())\n",
    "print(\"py2neo version:\", py2neo.__version__)"
   ]
  },
  {
   "cell_type": "markdown",
   "id": "dfa9d905-7ab3-4f41-834c-32fa9e72edf5",
   "metadata": {},
   "source": [
    "# Init Neo4j"
   ]
  },
  {
   "cell_type": "code",
   "execution_count": null,
   "id": "e0dae018-0f31-4d01-9e2b-8b8abcdd1a67",
   "metadata": {},
   "outputs": [],
   "source": [
    "try:\n",
    "    graph = Graph(\n",
    "        \"bolt://neo4j:{}\".format(7687),\n",
    "        auth=(\"neo4j\", \"pass1234\"),\n",
    "        name=\"neo4j\",\n",
    "    )\n",
    "    print(\"SUCCESS: Connected to Neo4j database\")\n",
    "except Exception as e:\n",
    "    print(\"ERROR: Could not connect to the Neo4j. See console for details.\")\n",
    "    raise SystemExit(e)"
   ]
  },
  {
   "cell_type": "markdown",
   "id": "6661f7ba-bedb-4191-8648-e70ffcf0303d",
   "metadata": {},
   "source": [
    "# Run sample Cypher query"
   ]
  },
  {
   "cell_type": "code",
   "execution_count": null,
   "id": "827cdb90-4d82-48a9-b3b8-2d62a2038cf4",
   "metadata": {},
   "outputs": [],
   "source": [
    "graph.run(\n",
    "    \"\"\"MATCH (n)\n",
    "RETURN count(n) as count\"\"\"\n",
    ")"
   ]
  },
  {
   "cell_type": "markdown",
   "id": "d2ef9d91-afbe-4ad2-a5e2-ae551812d144",
   "metadata": {},
   "source": [
    "### Open http://localhost:7474 for Neo4j Browser"
   ]
  }
 ],
 "metadata": {
  "kernelspec": {
   "display_name": "Python 3 (ipykernel)",
   "language": "python",
   "name": "python3"
  },
  "language_info": {
   "codemirror_mode": {
    "name": "ipython",
    "version": 3
   },
   "file_extension": ".py",
   "mimetype": "text/x-python",
   "name": "python",
   "nbconvert_exporter": "python",
   "pygments_lexer": "ipython3",
   "version": "3.10.8"
  }
 },
 "nbformat": 4,
 "nbformat_minor": 5
}
